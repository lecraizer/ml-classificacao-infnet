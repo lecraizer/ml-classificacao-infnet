{
 "cells": [
  {
   "cell_type": "markdown",
   "metadata": {},
   "source": [
    "## Classificação Binária com Random Forest - Sonar Dataset\n",
    "Neste notebook, vamos treinar uma árvore de decisão, criar um ensemble manual estilo Random Forest, e comparar com o `RandomForestClassifier` do `scikit-learn`, usando o desafiador Sonar Dataset."
   ]
  },
  {
   "cell_type": "code",
   "execution_count": 8,
   "metadata": {},
   "outputs": [],
   "source": [
    "# 1. Carregamento e pré-processamento do Sonar Dataset\n",
    "from sklearn.datasets import fetch_openml\n",
    "import pandas as pd\n",
    "\n",
    "data = fetch_openml(name='sonar', version=1, as_frame=True)\n",
    "X = data.data\n",
    "y = data.target\n",
    "\n",
    "# Converter o target para 0 (rock) e 1 (mine)\n",
    "y = y.map({'Rock': 0, 'Mine': 1})"
   ]
  },
  {
   "cell_type": "code",
   "execution_count": 9,
   "metadata": {},
   "outputs": [],
   "source": [
    "# 2. Divisão em treino e teste\n",
    "from sklearn.model_selection import train_test_split\n",
    "\n",
    "X_train, X_test, y_train, y_test = train_test_split(\n",
    "    X, y, test_size=0.3, random_state=42, stratify=y\n",
    ")"
   ]
  },
  {
   "cell_type": "code",
   "execution_count": 10,
   "metadata": {},
   "outputs": [
    {
     "name": "stdout",
     "output_type": "stream",
     "text": [
      "Árvore de Decisão (base):\n",
      "[[21  8]\n",
      " [ 9 25]]\n",
      "              precision    recall  f1-score   support\n",
      "\n",
      "           0       0.70      0.72      0.71        29\n",
      "           1       0.76      0.74      0.75        34\n",
      "\n",
      "    accuracy                           0.73        63\n",
      "   macro avg       0.73      0.73      0.73        63\n",
      "weighted avg       0.73      0.73      0.73        63\n",
      "\n"
     ]
    }
   ],
   "source": [
    "# 3. Árvore de decisão simples\n",
    "from sklearn.tree import DecisionTreeClassifier\n",
    "from sklearn.metrics import confusion_matrix, classification_report\n",
    "\n",
    "tree = DecisionTreeClassifier(max_depth=3, random_state=42)\n",
    "tree.fit(X_train, y_train)\n",
    "y_pred_tree = tree.predict(X_test)\n",
    "\n",
    "print(\"Árvore de Decisão (base):\")\n",
    "print(confusion_matrix(y_test, y_pred_tree))\n",
    "print(classification_report(y_test, y_pred_tree))"
   ]
  },
  {
   "cell_type": "code",
   "execution_count": 15,
   "metadata": {},
   "outputs": [
    {
     "name": "stdout",
     "output_type": "stream",
     "text": [
      "Random Forest Manual:\n",
      "[[19 10]\n",
      " [ 5 29]]\n",
      "              precision    recall  f1-score   support\n",
      "\n",
      "           0       0.79      0.66      0.72        29\n",
      "           1       0.74      0.85      0.79        34\n",
      "\n",
      "    accuracy                           0.76        63\n",
      "   macro avg       0.77      0.75      0.76        63\n",
      "weighted avg       0.77      0.76      0.76        63\n",
      "\n"
     ]
    }
   ],
   "source": [
    "# 4. Ensemble Random Forest manual\n",
    "import numpy as np\n",
    "from collections import Counter\n",
    "\n",
    "def manual_random_forest(X, y, X_test, n_estimators=100, sample_ratio=0.8, feature_ratio=0.8):\n",
    "    n_samples = int(sample_ratio * len(X))\n",
    "    n_features = int(feature_ratio * X.shape[1])\n",
    "    trees = []\n",
    "    features_list = []\n",
    "\n",
    "    for _ in range(n_estimators):\n",
    "        sample_idx = np.random.choice(X.index, size=n_samples, replace=True)\n",
    "        X_sample = X.loc[sample_idx]\n",
    "        y_sample = y.loc[sample_idx]\n",
    "\n",
    "        feature_idx = np.random.choice(X.columns, size=n_features, replace=False)\n",
    "        features_list.append(feature_idx)\n",
    "\n",
    "        tree = DecisionTreeClassifier(max_depth=3)\n",
    "        tree.fit(X_sample[feature_idx], y_sample)\n",
    "        trees.append(tree)\n",
    "\n",
    "    all_preds = []\n",
    "    for tree, feat in zip(trees, features_list):\n",
    "        preds = tree.predict(X_test[feat])\n",
    "        all_preds.append(preds)\n",
    "\n",
    "    all_preds = np.array(all_preds).T\n",
    "    final_preds = [Counter(row).most_common(1)[0][0] for row in all_preds]\n",
    "    return np.array(final_preds)\n",
    "\n",
    "y_pred_manual_rf = manual_random_forest(X_train, y_train, X_test)\n",
    "\n",
    "print(\"Random Forest Manual:\")\n",
    "print(confusion_matrix(y_test, y_pred_manual_rf))\n",
    "print(classification_report(y_test, y_pred_manual_rf))"
   ]
  },
  {
   "cell_type": "code",
   "execution_count": 16,
   "metadata": {},
   "outputs": [
    {
     "name": "stdout",
     "output_type": "stream",
     "text": [
      "RandomForestClassifier (sklearn):\n",
      "[[19 10]\n",
      " [ 4 30]]\n",
      "              precision    recall  f1-score   support\n",
      "\n",
      "           0       0.83      0.66      0.73        29\n",
      "           1       0.75      0.88      0.81        34\n",
      "\n",
      "    accuracy                           0.78        63\n",
      "   macro avg       0.79      0.77      0.77        63\n",
      "weighted avg       0.79      0.78      0.77        63\n",
      "\n"
     ]
    }
   ],
   "source": [
    "# 5. RandomForestClassifier do scikit-learn\n",
    "from sklearn.ensemble import RandomForestClassifier\n",
    "\n",
    "rf = RandomForestClassifier(n_estimators=100, max_depth=3, random_state=42)\n",
    "rf.fit(X_train, y_train)\n",
    "y_pred_rf = rf.predict(X_test)\n",
    "\n",
    "print(\"RandomForestClassifier (sklearn):\")\n",
    "print(confusion_matrix(y_test, y_pred_rf))\n",
    "print(classification_report(y_test, y_pred_rf))"
   ]
  },
  {
   "cell_type": "code",
   "execution_count": 17,
   "metadata": {},
   "outputs": [
    {
     "data": {
      "image/png": "[encoded data removed]",
      "text/plain": [
       "<Figure size 1200x500 with 4 Axes>"
      ]
     },
     "metadata": {},
     "output_type": "display_data"
    }
   ],
   "source": [
    "# 6. Matrizes de confusão visuais\n",
    "import seaborn as sns\n",
    "import matplotlib.pyplot as plt\n",
    "\n",
    "plt.figure(figsize=(12, 5))\n",
    "\n",
    "plt.subplot(1, 2, 1)\n",
    "sns.heatmap(confusion_matrix(y_test, y_pred_manual_rf), annot=True, fmt='d', cmap='Blues')\n",
    "plt.title(\"Matriz - RF Manual\")\n",
    "plt.xlabel(\"Predito\")\n",
    "plt.ylabel(\"Real\")\n",
    "\n",
    "plt.subplot(1, 2, 2)\n",
    "sns.heatmap(confusion_matrix(y_test, y_pred_rf), annot=True, fmt='d', cmap='Greens')\n",
    "plt.title(\"Matriz - sklearn RF\")\n",
    "plt.xlabel(\"Predito\")\n",
    "plt.ylabel(\"Real\")\n",
    "\n",
    "plt.tight_layout()\n",
    "plt.show()"
   ]
  },
  {
   "cell_type": "code",
   "execution_count": null,
   "metadata": {},
   "outputs": [],
   "source": []
  }
 ],
 "metadata": {
  "kernelspec": {
   "display_name": "Python 3 (ipykernel)",
   "language": "python",
   "name": "python3"
  },
  "language_info": {
   "codemirror_mode": {
    "name": "ipython",
    "version": 3
   },
   "file_extension": ".py",
   "mimetype": "text/x-python",
   "name": "python",
   "nbconvert_exporter": "python",
   "pygments_lexer": "ipython3",
   "version": "3.11.7"
  }
 },
 "nbformat": 4,
 "nbformat_minor": 4
}
