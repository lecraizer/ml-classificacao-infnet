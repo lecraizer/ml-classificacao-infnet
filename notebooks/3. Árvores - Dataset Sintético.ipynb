{
 "cells": [
  {
   "cell_type": "markdown",
   "metadata": {},
   "source": [
    "# Dataset Sintético com Regras Explícitas (Lógicas)\n",
    "Este notebook gera um dataset artificial usando regras explícitas do tipo `if/else`, ideal para que modelos como Árvores de Decisão se destaquem.\n",
    "\n",
    "**Modelos comparados:**\n",
    "- Árvore de Decisão\n",
    "- Regressão Logística\n",
    "- KNN\n",
    "\n",
    "**Objetivo:** Demonstrar como Decision Trees capturam bem estruturas baseadas em regras."
   ]
  },
  {
   "cell_type": "code",
   "execution_count": 1,
   "metadata": {},
   "outputs": [],
   "source": [
    "import numpy as np\n",
    "import pandas as pd\n",
    "from sklearn.model_selection import train_test_split\n",
    "from sklearn.preprocessing import StandardScaler\n",
    "from sklearn.tree import DecisionTreeClassifier\n",
    "from sklearn.linear_model import LogisticRegression\n",
    "from sklearn.neighbors import KNeighborsClassifier\n",
    "from sklearn.metrics import accuracy_score, f1_score"
   ]
  },
  {
   "cell_type": "code",
   "execution_count": 61,
   "metadata": {},
   "outputs": [
    {
     "data": {
      "text/html": [
       "<div>\n",
       "<style scoped>\n",
       "    .dataframe tbody tr th:only-of-type {\n",
       "        vertical-align: middle;\n",
       "    }\n",
       "\n",
       "    .dataframe tbody tr th {\n",
       "        vertical-align: top;\n",
       "    }\n",
       "\n",
       "    .dataframe thead th {\n",
       "        text-align: right;\n",
       "    }\n",
       "</style>\n",
       "<table border=\"1\" class=\"dataframe\">\n",
       "  <thead>\n",
       "    <tr style=\"text-align: right;\">\n",
       "      <th></th>\n",
       "      <th>x1</th>\n",
       "      <th>x2</th>\n",
       "      <th>x3</th>\n",
       "      <th>x4</th>\n",
       "      <th>x5</th>\n",
       "      <th>target</th>\n",
       "    </tr>\n",
       "  </thead>\n",
       "  <tbody>\n",
       "    <tr>\n",
       "      <th>0</th>\n",
       "      <td>0.496714</td>\n",
       "      <td>-0.138264</td>\n",
       "      <td>0.647689</td>\n",
       "      <td>1.523030</td>\n",
       "      <td>-0.234153</td>\n",
       "      <td>0</td>\n",
       "    </tr>\n",
       "    <tr>\n",
       "      <th>1</th>\n",
       "      <td>-0.234137</td>\n",
       "      <td>1.579213</td>\n",
       "      <td>0.767435</td>\n",
       "      <td>-0.469474</td>\n",
       "      <td>0.542560</td>\n",
       "      <td>0</td>\n",
       "    </tr>\n",
       "    <tr>\n",
       "      <th>2</th>\n",
       "      <td>-0.463418</td>\n",
       "      <td>-0.465730</td>\n",
       "      <td>0.241962</td>\n",
       "      <td>-1.913280</td>\n",
       "      <td>-1.724918</td>\n",
       "      <td>0</td>\n",
       "    </tr>\n",
       "    <tr>\n",
       "      <th>3</th>\n",
       "      <td>-0.562288</td>\n",
       "      <td>-1.012831</td>\n",
       "      <td>0.314247</td>\n",
       "      <td>-0.908024</td>\n",
       "      <td>-1.412304</td>\n",
       "      <td>0</td>\n",
       "    </tr>\n",
       "    <tr>\n",
       "      <th>4</th>\n",
       "      <td>1.465649</td>\n",
       "      <td>-0.225776</td>\n",
       "      <td>0.067528</td>\n",
       "      <td>-1.424748</td>\n",
       "      <td>-0.544383</td>\n",
       "      <td>0</td>\n",
       "    </tr>\n",
       "  </tbody>\n",
       "</table>\n",
       "</div>"
      ],
      "text/plain": [
       "         x1        x2        x3        x4        x5  target\n",
       "0  0.496714 -0.138264  0.647689  1.523030 -0.234153       0\n",
       "1 -0.234137  1.579213  0.767435 -0.469474  0.542560       0\n",
       "2 -0.463418 -0.465730  0.241962 -1.913280 -1.724918       0\n",
       "3 -0.562288 -1.012831  0.314247 -0.908024 -1.412304       0\n",
       "4  1.465649 -0.225776  0.067528 -1.424748 -0.544383       0"
      ]
     },
     "execution_count": 61,
     "metadata": {},
     "output_type": "execute_result"
    }
   ],
   "source": [
    "# Criar dados com regras claras: se x1 > 0.5 e x2 < -0.5 então classe = 1, senão = 0\n",
    "np.random.seed(42)\n",
    "X = np.random.randn(1000, 5)\n",
    "y = np.where((X[:, 0] > 0.5) & (X[:, 1] < -0.5), 1, 0)\n",
    "\n",
    "# y = np.where((X[:, 0]**2 + X[:, 1]**2 > 1.5), 1, 0)\n",
    "y = np.where((X[:, 0] + X[:, 1] > 1.0) & (X[:, 2] < 0.0), 1, 0)\n",
    "\n",
    "\n",
    "# Transformar em DataFrame para visualização e compatibilidade\n",
    "df = pd.DataFrame(X, columns=[f'x{i+1}' for i in range(X.shape[1])])\n",
    "df['target'] = y\n",
    "\n",
    "df.head()"
   ]
  },
  {
   "cell_type": "code",
   "execution_count": 62,
   "metadata": {},
   "outputs": [],
   "source": [
    "X = df.drop(columns='target')\n",
    "y = df['target']\n",
    "\n",
    "X_train, X_test, y_train, y_test = train_test_split(X, y, test_size=0.3, stratify=y, random_state=42)\n",
    "\n",
    "scaler = StandardScaler()\n",
    "X_train_scaled = scaler.fit_transform(X_train)\n",
    "X_test_scaled = scaler.transform(X_test)"
   ]
  },
  {
   "cell_type": "code",
   "execution_count": 76,
   "metadata": {},
   "outputs": [
    {
     "data": {
      "text/html": [
       "<div>\n",
       "<style scoped>\n",
       "    .dataframe tbody tr th:only-of-type {\n",
       "        vertical-align: middle;\n",
       "    }\n",
       "\n",
       "    .dataframe tbody tr th {\n",
       "        vertical-align: top;\n",
       "    }\n",
       "\n",
       "    .dataframe thead th {\n",
       "        text-align: right;\n",
       "    }\n",
       "</style>\n",
       "<table border=\"1\" class=\"dataframe\">\n",
       "  <thead>\n",
       "    <tr style=\"text-align: right;\">\n",
       "      <th></th>\n",
       "      <th>Modelo</th>\n",
       "      <th>Acurácia Média</th>\n",
       "      <th>F1-Score Médio</th>\n",
       "    </tr>\n",
       "  </thead>\n",
       "  <tbody>\n",
       "    <tr>\n",
       "      <th>0</th>\n",
       "      <td>Árvore de Decisão</td>\n",
       "      <td>0.9629</td>\n",
       "      <td>0.8325</td>\n",
       "    </tr>\n",
       "    <tr>\n",
       "      <th>1</th>\n",
       "      <td>KNN</td>\n",
       "      <td>0.9357</td>\n",
       "      <td>0.6371</td>\n",
       "    </tr>\n",
       "    <tr>\n",
       "      <th>2</th>\n",
       "      <td>Regressão Logística</td>\n",
       "      <td>0.9257</td>\n",
       "      <td>0.6176</td>\n",
       "    </tr>\n",
       "  </tbody>\n",
       "</table>\n",
       "</div>"
      ],
      "text/plain": [
       "                Modelo  Acurácia Média  F1-Score Médio\n",
       "0    Árvore de Decisão          0.9629          0.8325\n",
       "1                  KNN          0.9357          0.6371\n",
       "2  Regressão Logística          0.9257          0.6176"
      ]
     },
     "execution_count": 76,
     "metadata": {},
     "output_type": "execute_result"
    }
   ],
   "source": [
    "from sklearn.model_selection import cross_val_score\n",
    "import numpy as np\n",
    "\n",
    "# Instanciar os modelos\n",
    "dt = DecisionTreeClassifier(random_state=42)\n",
    "knn = KNeighborsClassifier()\n",
    "lr = LogisticRegression(max_iter=1000)\n",
    "\n",
    "# Avaliar com cross-validation (usando acurácia e F1)\n",
    "scores_dt_acc = cross_val_score(dt, X_train_scaled, y_train, cv=5, scoring='accuracy')\n",
    "scores_knn_acc = cross_val_score(knn, X_train_scaled, y_train, cv=5, scoring='accuracy')\n",
    "scores_lr_acc = cross_val_score(lr, X_train_scaled, y_train, cv=5, scoring='accuracy')\n",
    "\n",
    "scores_dt_f1 = cross_val_score(dt, X_train_scaled, y_train, cv=5, scoring='f1')\n",
    "scores_knn_f1 = cross_val_score(knn, X_train_scaled, y_train, cv=5, scoring='f1')\n",
    "scores_lr_f1 = cross_val_score(lr, X_train_scaled, y_train, cv=5, scoring='f1')\n",
    "\n",
    "# Resultados em DataFrame\n",
    "results_cv = pd.DataFrame({\n",
    "    'Modelo': ['Árvore de Decisão', 'KNN', 'Regressão Logística'],\n",
    "    'Acurácia Média': [scores_dt_acc.mean(), scores_knn_acc.mean(), scores_lr_acc.mean()],\n",
    "    'F1-Score Médio': [scores_dt_f1.mean(), scores_knn_f1.mean(), scores_lr_f1.mean()]\n",
    "})\n",
    "results_cv.round(4)"
   ]
  },
  {
   "cell_type": "code",
   "execution_count": 77,
   "metadata": {},
   "outputs": [],
   "source": [
    "tree = DecisionTreeClassifier(random_state=42)\n",
    "tree.fit(X_train_scaled, y_train)\n",
    "\n",
    "path = tree.cost_complexity_pruning_path(X_train_scaled, y_train)\n",
    "ccp_alphas = path.ccp_alphas[:-1]  # último alpha leva a uma raiz só, geralmente inútil"
   ]
  },
  {
   "cell_type": "code",
   "execution_count": 80,
   "metadata": {},
   "outputs": [
    {
     "name": "stdout",
     "output_type": "stream",
     "text": [
      "11\n"
     ]
    }
   ],
   "source": [
    "trees = []\n",
    "for alpha in ccp_alphas:\n",
    "    clf = DecisionTreeClassifier(random_state=42, ccp_alpha=alpha)\n",
    "    clf.fit(X_train_scaled, y_train)\n",
    "    trees.append(clf)\n",
    "\n",
    "print(len(trees))"
   ]
  },
  {
   "cell_type": "code",
   "execution_count": 81,
   "metadata": {},
   "outputs": [
    {
     "name": "stdout",
     "output_type": "stream",
     "text": [
      "Melhor ccp_alpha encontrado: 0.0\n"
     ]
    }
   ],
   "source": [
    "from sklearn.model_selection import cross_val_score\n",
    "\n",
    "val_scores = [cross_val_score(clf, X_train_scaled, y_train, cv=5).mean() for clf in trees]\n",
    "best_index = np.argmax(val_scores)\n",
    "best_alpha = ccp_alphas[best_index]\n",
    "print(f\"Melhor ccp_alpha encontrado: {best_alpha}\")"
   ]
  },
  {
   "cell_type": "code",
   "execution_count": 82,
   "metadata": {},
   "outputs": [
    {
     "name": "stdout",
     "output_type": "stream",
     "text": [
      "Acurácia: 0.9567\n",
      "F1-score: 0.8\n"
     ]
    }
   ],
   "source": [
    "pruned_tree = DecisionTreeClassifier(random_state=42, ccp_alpha=best_alpha)\n",
    "pruned_tree.fit(X_train_scaled, y_train)\n",
    "\n",
    "y_pred = pruned_tree.predict(X_test_scaled)\n",
    "print(\"Acurácia:\", round(accuracy_score(y_test, y_pred), 4))\n",
    "print(\"F1-score:\", round(f1_score(y_test, y_pred), 4))"
   ]
  },
  {
   "cell_type": "code",
   "execution_count": null,
   "metadata": {},
   "outputs": [],
   "source": []
  }
 ],
 "metadata": {
  "kernelspec": {
   "display_name": "Python 3 (ipykernel)",
   "language": "python",
   "name": "python3"
  },
  "language_info": {
   "codemirror_mode": {
    "name": "ipython",
    "version": 3
   },
   "file_extension": ".py",
   "mimetype": "text/x-python",
   "name": "python",
   "nbconvert_exporter": "python",
   "pygments_lexer": "ipython3",
   "version": "3.11.7"
  }
 },
 "nbformat": 4,
 "nbformat_minor": 4
}
