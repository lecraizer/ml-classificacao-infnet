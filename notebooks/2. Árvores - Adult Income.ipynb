{
 "cells": [
  {
   "cell_type": "markdown",
   "metadata": {},
   "source": [
    "# Classificação com o Dataset Adult Income\n",
    "Neste notebook, vamos prever se a renda de uma pessoa excede 50 mil dólares por ano, com base em características demográficas e profissionais.\n",
    "\n",
    "**Modelos comparados:**\n",
    "- Árvore de Decisão\n",
    "- Regressão Logística\n",
    "- KNN\n",
    "\n",
    "**Etapas:**\n",
    "- Carga e limpeza de dados\n",
    "- Pré-processamento (encoding e normalização)\n",
    "- Treinamento dos modelos\n",
    "- Avaliação com Acurácia e F1-score\n",
    "\n",
    "# Dataset: Adult Income\n",
    "\n",
    "O dataset **Adult Income** (também conhecido como **Census Income**) tem como objetivo prever se uma pessoa ganha mais de **\\$50.000** por ano com base em atributos demográficos e trabalhistas.\n",
    "\n",
    "---\n",
    "\n",
    "## Variáveis\n",
    "\n",
    "- **age**: Idade do indivíduo.\n",
    "- **workclass**: Tipo de empregador (ex: Private, Self-emp, Government).\n",
    "- **fnlwgt**: Peso de amostra (não é uma feature informativa para predição).\n",
    "- **education**: Nível de escolaridade (ex: Bachelors, HS-grad).\n",
    "- **education-num**: Escolaridade em anos (versão numérica de education).\n",
    "- **marital-status**: Estado civil (ex: Married, Single).\n",
    "- **occupation**: Ocupação (ex: Tech-support, Craft-repair).\n",
    "- **relationship**: Relação familiar (ex: Husband, Not-in-family).\n",
    "- **race**: Raça (ex: White, Black, Asian-Pac-Islander).\n",
    "- **sex**: Sexo (Male/Female).\n",
    "- **capital-gain**: Ganho de capital.\n",
    "- **capital-loss**: Perda de capital.\n",
    "- **hours-per-week**: Número de horas trabalhadas por semana.\n",
    "- **native-country**: País de origem (ex: United-States, Mexico).\n",
    "\n",
    "---\n",
    "\n",
    "## Variável alvo (`y`)\n",
    "\n",
    "- **income**: Faixa de renda (binária):\n",
    "  - `<=50K`\n",
    "  - `>50K`\n",
    "\n",
    "---"
   ]
  },
  {
   "cell_type": "code",
   "execution_count": 25,
   "metadata": {},
   "outputs": [],
   "source": [
    "import kagglehub\n",
    "import numpy as np\n",
    "import pandas as pd\n",
    "import matplotlib.pyplot as plt\n",
    "from sklearn.preprocessing import StandardScaler\n",
    "from sklearn.model_selection import GridSearchCV\n",
    "from sklearn.neighbors import KNeighborsClassifier\n",
    "from sklearn.linear_model import LogisticRegression\n",
    "from sklearn.model_selection import train_test_split\n",
    "from sklearn.metrics import accuracy_score, f1_score\n",
    "from sklearn.tree import DecisionTreeClassifier, plot_tree"
   ]
  },
  {
   "cell_type": "code",
   "execution_count": 2,
   "metadata": {},
   "outputs": [
    {
     "name": "stdout",
     "output_type": "stream",
     "text": [
      "Warning: Looks like you're using an outdated `kagglehub` version (installed: 0.3.10), please consider upgrading to the latest version (0.3.12).\n"
     ]
    },
    {
     "data": {
      "text/html": [
       "<div>\n",
       "<style scoped>\n",
       "    .dataframe tbody tr th:only-of-type {\n",
       "        vertical-align: middle;\n",
       "    }\n",
       "\n",
       "    .dataframe tbody tr th {\n",
       "        vertical-align: top;\n",
       "    }\n",
       "\n",
       "    .dataframe thead th {\n",
       "        text-align: right;\n",
       "    }\n",
       "</style>\n",
       "<table border=\"1\" class=\"dataframe\">\n",
       "  <thead>\n",
       "    <tr style=\"text-align: right;\">\n",
       "      <th></th>\n",
       "      <th>age</th>\n",
       "      <th>workclass</th>\n",
       "      <th>fnlwgt</th>\n",
       "      <th>education</th>\n",
       "      <th>education.num</th>\n",
       "      <th>marital.status</th>\n",
       "      <th>occupation</th>\n",
       "      <th>relationship</th>\n",
       "      <th>race</th>\n",
       "      <th>sex</th>\n",
       "      <th>capital.gain</th>\n",
       "      <th>capital.loss</th>\n",
       "      <th>hours.per.week</th>\n",
       "      <th>native.country</th>\n",
       "      <th>income</th>\n",
       "    </tr>\n",
       "  </thead>\n",
       "  <tbody>\n",
       "    <tr>\n",
       "      <th>0</th>\n",
       "      <td>90</td>\n",
       "      <td>?</td>\n",
       "      <td>77053</td>\n",
       "      <td>HS-grad</td>\n",
       "      <td>9</td>\n",
       "      <td>Widowed</td>\n",
       "      <td>?</td>\n",
       "      <td>Not-in-family</td>\n",
       "      <td>White</td>\n",
       "      <td>Female</td>\n",
       "      <td>0</td>\n",
       "      <td>4356</td>\n",
       "      <td>40</td>\n",
       "      <td>United-States</td>\n",
       "      <td>&lt;=50K</td>\n",
       "    </tr>\n",
       "    <tr>\n",
       "      <th>1</th>\n",
       "      <td>82</td>\n",
       "      <td>Private</td>\n",
       "      <td>132870</td>\n",
       "      <td>HS-grad</td>\n",
       "      <td>9</td>\n",
       "      <td>Widowed</td>\n",
       "      <td>Exec-managerial</td>\n",
       "      <td>Not-in-family</td>\n",
       "      <td>White</td>\n",
       "      <td>Female</td>\n",
       "      <td>0</td>\n",
       "      <td>4356</td>\n",
       "      <td>18</td>\n",
       "      <td>United-States</td>\n",
       "      <td>&lt;=50K</td>\n",
       "    </tr>\n",
       "    <tr>\n",
       "      <th>2</th>\n",
       "      <td>66</td>\n",
       "      <td>?</td>\n",
       "      <td>186061</td>\n",
       "      <td>Some-college</td>\n",
       "      <td>10</td>\n",
       "      <td>Widowed</td>\n",
       "      <td>?</td>\n",
       "      <td>Unmarried</td>\n",
       "      <td>Black</td>\n",
       "      <td>Female</td>\n",
       "      <td>0</td>\n",
       "      <td>4356</td>\n",
       "      <td>40</td>\n",
       "      <td>United-States</td>\n",
       "      <td>&lt;=50K</td>\n",
       "    </tr>\n",
       "    <tr>\n",
       "      <th>3</th>\n",
       "      <td>54</td>\n",
       "      <td>Private</td>\n",
       "      <td>140359</td>\n",
       "      <td>7th-8th</td>\n",
       "      <td>4</td>\n",
       "      <td>Divorced</td>\n",
       "      <td>Machine-op-inspct</td>\n",
       "      <td>Unmarried</td>\n",
       "      <td>White</td>\n",
       "      <td>Female</td>\n",
       "      <td>0</td>\n",
       "      <td>3900</td>\n",
       "      <td>40</td>\n",
       "      <td>United-States</td>\n",
       "      <td>&lt;=50K</td>\n",
       "    </tr>\n",
       "    <tr>\n",
       "      <th>4</th>\n",
       "      <td>41</td>\n",
       "      <td>Private</td>\n",
       "      <td>264663</td>\n",
       "      <td>Some-college</td>\n",
       "      <td>10</td>\n",
       "      <td>Separated</td>\n",
       "      <td>Prof-specialty</td>\n",
       "      <td>Own-child</td>\n",
       "      <td>White</td>\n",
       "      <td>Female</td>\n",
       "      <td>0</td>\n",
       "      <td>3900</td>\n",
       "      <td>40</td>\n",
       "      <td>United-States</td>\n",
       "      <td>&lt;=50K</td>\n",
       "    </tr>\n",
       "  </tbody>\n",
       "</table>\n",
       "</div>"
      ],
      "text/plain": [
       "   age workclass  fnlwgt     education  education.num marital.status  \\\n",
       "0   90         ?   77053       HS-grad              9        Widowed   \n",
       "1   82   Private  132870       HS-grad              9        Widowed   \n",
       "2   66         ?  186061  Some-college             10        Widowed   \n",
       "3   54   Private  140359       7th-8th              4       Divorced   \n",
       "4   41   Private  264663  Some-college             10      Separated   \n",
       "\n",
       "          occupation   relationship   race     sex  capital.gain  \\\n",
       "0                  ?  Not-in-family  White  Female             0   \n",
       "1    Exec-managerial  Not-in-family  White  Female             0   \n",
       "2                  ?      Unmarried  Black  Female             0   \n",
       "3  Machine-op-inspct      Unmarried  White  Female             0   \n",
       "4     Prof-specialty      Own-child  White  Female             0   \n",
       "\n",
       "   capital.loss  hours.per.week native.country income  \n",
       "0          4356              40  United-States  <=50K  \n",
       "1          4356              18  United-States  <=50K  \n",
       "2          4356              40  United-States  <=50K  \n",
       "3          3900              40  United-States  <=50K  \n",
       "4          3900              40  United-States  <=50K  "
      ]
     },
     "execution_count": 2,
     "metadata": {},
     "output_type": "execute_result"
    }
   ],
   "source": [
    "# Download latest version\n",
    "path = kagglehub.dataset_download(\"uciml/adult-census-income\")\n",
    "\n",
    "df = pd.read_csv(path + '/adult.csv')\n",
    "df.head()"
   ]
  },
  {
   "cell_type": "code",
   "execution_count": 3,
   "metadata": {},
   "outputs": [
    {
     "name": "stdout",
     "output_type": "stream",
     "text": [
      "<class 'pandas.core.frame.DataFrame'>\n",
      "Index: 30162 entries, 1 to 32560\n",
      "Data columns (total 15 columns):\n",
      " #   Column          Non-Null Count  Dtype \n",
      "---  ------          --------------  ----- \n",
      " 0   age             30162 non-null  int64 \n",
      " 1   workclass       30162 non-null  object\n",
      " 2   fnlwgt          30162 non-null  int64 \n",
      " 3   education       30162 non-null  object\n",
      " 4   education.num   30162 non-null  int64 \n",
      " 5   marital.status  30162 non-null  object\n",
      " 6   occupation      30162 non-null  object\n",
      " 7   relationship    30162 non-null  object\n",
      " 8   race            30162 non-null  object\n",
      " 9   sex             30162 non-null  object\n",
      " 10  capital.gain    30162 non-null  int64 \n",
      " 11  capital.loss    30162 non-null  int64 \n",
      " 12  hours.per.week  30162 non-null  int64 \n",
      " 13  native.country  30162 non-null  object\n",
      " 14  income          30162 non-null  int64 \n",
      "dtypes: int64(7), object(8)\n",
      "memory usage: 3.7+ MB\n"
     ]
    }
   ],
   "source": [
    "# Verificar dados ausentes e tipos\n",
    "df.replace('?', np.nan, inplace=True)\n",
    "df.dropna(inplace=True)\n",
    "df['income'] = df['income'].map({'>50K': 1, '<=50K': 0})\n",
    "df.info()"
   ]
  },
  {
   "cell_type": "code",
   "execution_count": 4,
   "metadata": {},
   "outputs": [],
   "source": [
    "# Separar X e y\n",
    "X = df.drop(columns='income')\n",
    "y = df['income']\n",
    "\n",
    "# Codificar variáveis categóricas\n",
    "X_encoded = pd.get_dummies(X, drop_first=True)\n",
    "\n",
    "# Dividir treino/teste\n",
    "X_train, X_test, y_train, y_test = train_test_split(X_encoded, y, test_size=0.3, random_state=42, stratify=y)\n",
    "\n",
    "# Normalizar\n",
    "scaler = StandardScaler()\n",
    "X_train_scaled = scaler.fit_transform(X_train)\n",
    "X_test_scaled = scaler.transform(X_test)"
   ]
  },
  {
   "cell_type": "code",
   "execution_count": 5,
   "metadata": {},
   "outputs": [
    {
     "data": {
      "text/html": [
       "<div>\n",
       "<style scoped>\n",
       "    .dataframe tbody tr th:only-of-type {\n",
       "        vertical-align: middle;\n",
       "    }\n",
       "\n",
       "    .dataframe tbody tr th {\n",
       "        vertical-align: top;\n",
       "    }\n",
       "\n",
       "    .dataframe thead th {\n",
       "        text-align: right;\n",
       "    }\n",
       "</style>\n",
       "<table border=\"1\" class=\"dataframe\">\n",
       "  <thead>\n",
       "    <tr style=\"text-align: right;\">\n",
       "      <th></th>\n",
       "      <th>Modelo</th>\n",
       "      <th>Acurácia</th>\n",
       "      <th>F1-Score</th>\n",
       "    </tr>\n",
       "  </thead>\n",
       "  <tbody>\n",
       "    <tr>\n",
       "      <th>0</th>\n",
       "      <td>Árvore de Decisão</td>\n",
       "      <td>0.819538</td>\n",
       "      <td>0.637192</td>\n",
       "    </tr>\n",
       "    <tr>\n",
       "      <th>1</th>\n",
       "      <td>KNN</td>\n",
       "      <td>0.820643</td>\n",
       "      <td>0.620173</td>\n",
       "    </tr>\n",
       "    <tr>\n",
       "      <th>2</th>\n",
       "      <td>Regressão Logística</td>\n",
       "      <td>0.849597</td>\n",
       "      <td>0.668130</td>\n",
       "    </tr>\n",
       "  </tbody>\n",
       "</table>\n",
       "</div>"
      ],
      "text/plain": [
       "                Modelo  Acurácia  F1-Score\n",
       "0    Árvore de Decisão  0.819538  0.637192\n",
       "1                  KNN  0.820643  0.620173\n",
       "2  Regressão Logística  0.849597  0.668130"
      ]
     },
     "execution_count": 5,
     "metadata": {},
     "output_type": "execute_result"
    }
   ],
   "source": [
    "# Treinar modelos\n",
    "model_dt = DecisionTreeClassifier(random_state=42)\n",
    "model_knn = KNeighborsClassifier()\n",
    "model_lr = LogisticRegression(max_iter=1000)\n",
    "\n",
    "model_dt.fit(X_train_scaled, y_train)\n",
    "model_knn.fit(X_train_scaled, y_train)\n",
    "model_lr.fit(X_train_scaled, y_train)\n",
    "\n",
    "# Prever\n",
    "y_pred_dt = model_dt.predict(X_test_scaled)\n",
    "y_pred_knn = model_knn.predict(X_test_scaled)\n",
    "y_pred_lr = model_lr.predict(X_test_scaled)\n",
    "\n",
    "# Avaliação\n",
    "results = pd.DataFrame({\n",
    "    'Modelo': ['Árvore de Decisão', 'KNN', 'Regressão Logística'],\n",
    "    'Acurácia': [\n",
    "        accuracy_score(y_test, y_pred_dt),\n",
    "        accuracy_score(y_test, y_pred_knn),\n",
    "        accuracy_score(y_test, y_pred_lr)\n",
    "    ],\n",
    "    'F1-Score': [\n",
    "        f1_score(y_test, y_pred_dt),\n",
    "        f1_score(y_test, y_pred_knn),\n",
    "        f1_score(y_test, y_pred_lr)\n",
    "    ]\n",
    "})\n",
    "results"
   ]
  },
  {
   "cell_type": "code",
   "execution_count": 6,
   "metadata": {},
   "outputs": [
    {
     "name": "stdout",
     "output_type": "stream",
     "text": [
      "Fitting 5 folds for each of 36 candidates, totalling 180 fits\n",
      "Melhores parâmetros: {'max_depth': 10, 'min_samples_leaf': 2, 'min_samples_split': 10}\n",
      "F1-score: 0.6789\n",
      "Acurácia: 0.857\n"
     ]
    }
   ],
   "source": [
    "# Definir a grade de hiperparâmetros\n",
    "param_grid = {\n",
    "    'max_depth': [3, 5, 10, None],\n",
    "    'min_samples_split': [2, 5, 10],\n",
    "    'min_samples_leaf': [1, 2, 4]\n",
    "}\n",
    "\n",
    "# Inicializar o modelo\n",
    "tree = DecisionTreeClassifier(random_state=42)\n",
    "\n",
    "# Criar o Grid Search com validação cruzada\n",
    "grid_search = GridSearchCV(\n",
    "    estimator=tree,\n",
    "    param_grid=param_grid,\n",
    "    cv=5,                      # 5-fold cross-validation\n",
    "    scoring='f1',              # pode trocar por 'accuracy', 'roc_auc', etc.\n",
    "    n_jobs=-1,                 # usa todos os núcleos da máquina\n",
    "    verbose=1\n",
    ")\n",
    "\n",
    "# Treinar\n",
    "grid_search.fit(X_train_scaled, y_train)\n",
    "\n",
    "# Acessar o melhor modelo\n",
    "best_tree = grid_search.best_estimator_\n",
    "\n",
    "# Avaliar no conjunto de teste\n",
    "y_pred_best = best_tree.predict(X_test_scaled)\n",
    "print(\"Melhores parâmetros:\", grid_search.best_params_)\n",
    "print(\"F1-score:\", round(f1_score(y_test, y_pred_best), 4))\n",
    "print(\"Acurácia:\", round(accuracy_score(y_test, y_pred_best), 4))"
   ]
  },
  {
   "cell_type": "markdown",
   "metadata": {},
   "source": [
    "### Pruning"
   ]
  },
  {
   "cell_type": "code",
   "execution_count": 18,
   "metadata": {},
   "outputs": [],
   "source": [
    "path = model_dt.cost_complexity_pruning_path(X_train_scaled, y_train)\n",
    "ccp_alphas = path.ccp_alphas"
   ]
  },
  {
   "cell_type": "code",
   "execution_count": 19,
   "metadata": {},
   "outputs": [],
   "source": [
    "# Treinar uma árvore para cada alpha\n",
    "trees = []\n",
    "for alpha in ccp_alphas:\n",
    "    clf = DecisionTreeClassifier(random_state=42, ccp_alpha=alpha)\n",
    "    clf.fit(X_train_scaled, y_train)\n",
    "    trees.append(clf)"
   ]
  },
  {
   "cell_type": "code",
   "execution_count": 20,
   "metadata": {},
   "outputs": [],
   "source": [
    "# Avaliar desempenho em teste\n",
    "test_scores = [clf.score(X_test_scaled, y_test) for clf in trees]"
   ]
  },
  {
   "cell_type": "code",
   "execution_count": 21,
   "metadata": {},
   "outputs": [
    {
     "name": "stdout",
     "output_type": "stream",
     "text": [
      "Melhor ccp_alpha encontrado: 0.00015\n"
     ]
    }
   ],
   "source": [
    "# Escolher melhor alpha (maior acurácia no teste)\n",
    "best_index = np.argmax(test_scores)\n",
    "best_alpha = ccp_alphas[best_index]\n",
    "print(f\"Melhor ccp_alpha encontrado: {best_alpha:.5f}\")"
   ]
  },
  {
   "cell_type": "code",
   "execution_count": 22,
   "metadata": {},
   "outputs": [
    {
     "name": "stdout",
     "output_type": "stream",
     "text": [
      "\n",
      "Árvore sem pruning:\n",
      "Acurácia: 0.8195\n",
      "F1-score: 0.6372\n",
      "\n",
      "Árvore com pruning:\n",
      "Acurácia: 0.8615\n",
      "F1-score: 0.6896\n"
     ]
    }
   ],
   "source": [
    "# Treinar a árvore podada final\n",
    "model_dt_pruned = DecisionTreeClassifier(random_state=42, ccp_alpha=best_alpha)\n",
    "model_dt_pruned.fit(X_train_scaled, y_train)\n",
    "\n",
    "# Avaliar desempenho da árvore podada\n",
    "y_pred_pruned = model_dt_pruned.predict(X_test_scaled)\n",
    "\n",
    "print(\"\\nÁrvore sem pruning:\")\n",
    "print(f\"Acurácia: {accuracy_score(y_test, y_pred_dt):.4f}\")\n",
    "print(f\"F1-score: {f1_score(y_test, y_pred_dt):.4f}\")\n",
    "\n",
    "print(\"\\nÁrvore com pruning:\")\n",
    "print(f\"Acurácia: {accuracy_score(y_test, y_pred_pruned):.4f}\")\n",
    "print(f\"F1-score: {f1_score(y_test, y_pred_pruned):.4f}\")"
   ]
  },
  {
   "cell_type": "code",
   "execution_count": 29,
   "metadata": {},
   "outputs": [],
   "source": [
    "# feature_names = X_train.columns\n",
    "\n",
    "# # Visualizar a árvore sem pruning\n",
    "# plt.figure(figsize=(14,6))\n",
    "# plot_tree(model_dt, filled=True, max_depth=3, feature_names=feature_names)\n",
    "# plt.title('Árvore sem Pruning (limitada a 3 níveis)')\n",
    "# plt.show()\n",
    "\n",
    "# # Visualizar a árvore com pruning\n",
    "# plt.figure(figsize=(14,6))\n",
    "# plot_tree(model_dt_pruned, filled=True, max_depth=3, feature_names=feature_names)\n",
    "# plt.title('Árvore com Pruning (limitada a 3 níveis)')\n",
    "# plt.show()"
   ]
  },
  {
   "cell_type": "code",
   "execution_count": 30,
   "metadata": {},
   "outputs": [
    {
     "data": {
      "text/plain": [
       "46"
      ]
     },
     "execution_count": 30,
     "metadata": {},
     "output_type": "execute_result"
    }
   ],
   "source": [
    "model_dt.get_depth()"
   ]
  },
  {
   "cell_type": "code",
   "execution_count": 31,
   "metadata": {},
   "outputs": [
    {
     "data": {
      "text/plain": [
       "19"
      ]
     },
     "execution_count": 31,
     "metadata": {},
     "output_type": "execute_result"
    }
   ],
   "source": [
    "model_dt_pruned.get_depth()"
   ]
  },
  {
   "cell_type": "markdown",
   "metadata": {},
   "source": [
    "### Grid search com best alpha fixo"
   ]
  },
  {
   "cell_type": "code",
   "execution_count": 34,
   "metadata": {},
   "outputs": [
    {
     "name": "stdout",
     "output_type": "stream",
     "text": [
      "Fitting 5 folds for each of 36 candidates, totalling 180 fits\n",
      "Melhores parâmetros finais: {'max_depth': 10, 'min_samples_leaf': 2, 'min_samples_split': 2}\n",
      "Acurácia final: 0.8562\n",
      "F1-score final: 0.6769\n"
     ]
    }
   ],
   "source": [
    "# Definir a nova grade de hiperparâmetros (sem ccp_alpha)\n",
    "param_grid = {\n",
    "    'max_depth': [3, 5, 10, None],\n",
    "    'min_samples_split': [2, 5, 10],\n",
    "    'min_samples_leaf': [1, 2, 4]\n",
    "}\n",
    "\n",
    "# Inicializar o modelo com ccp_alpha fixado\n",
    "tree_with_fixed_alpha = DecisionTreeClassifier(random_state=42, ccp_alpha=best_alpha)\n",
    "\n",
    "# Novo Grid Search com o alpha fixo\n",
    "grid_search_fixed_alpha = GridSearchCV(\n",
    "    estimator=tree_with_fixed_alpha,\n",
    "    param_grid=param_grid,\n",
    "    cv=5,                      # 5-fold cross-validation\n",
    "    scoring='f1',              # ou 'accuracy'\n",
    "    n_jobs=-1,\n",
    "    verbose=1\n",
    ")\n",
    "\n",
    "# Treinar\n",
    "grid_search_fixed_alpha.fit(X_train_scaled, y_train)\n",
    "\n",
    "# Avaliar o melhor modelo\n",
    "best_tree_final = grid_search_fixed_alpha.best_estimator_\n",
    "\n",
    "y_pred_final = best_tree_final.predict(X_test_scaled)\n",
    "print(\"Melhores parâmetros finais:\", grid_search_fixed_alpha.best_params_)\n",
    "print(\"Acurácia final:\", round(accuracy_score(y_test, y_pred_final), 4))\n",
    "print(\"F1-score final:\", round(f1_score(y_test, y_pred_final), 4))\n"
   ]
  },
  {
   "cell_type": "code",
   "execution_count": null,
   "metadata": {},
   "outputs": [],
   "source": []
  }
 ],
 "metadata": {
  "kernelspec": {
   "display_name": "Python 3 (ipykernel)",
   "language": "python",
   "name": "python3"
  },
  "language_info": {
   "codemirror_mode": {
    "name": "ipython",
    "version": 3
   },
   "file_extension": ".py",
   "mimetype": "text/x-python",
   "name": "python",
   "nbconvert_exporter": "python",
   "pygments_lexer": "ipython3",
   "version": "3.11.7"
  }
 },
 "nbformat": 4,
 "nbformat_minor": 4
}
