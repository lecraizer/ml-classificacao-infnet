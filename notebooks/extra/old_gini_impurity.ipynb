{
 "cells": [
  {
   "cell_type": "markdown",
   "metadata": {},
   "source": [
    "# Construção Manual de Árvore de Decisão com Gini\n",
    "Neste notebook, vamos calcular a impureza de Gini para diferentes divisões de um pequeno dataset fictício e construir a árvore com base na melhor divisão."
   ]
  },
  {
   "cell_type": "code",
   "execution_count": 1,
   "metadata": {},
   "outputs": [],
   "source": [
    "import pandas as pd\n",
    "from graphviz import Source\n",
    "from graphviz import Digraph\n",
    "import matplotlib.pyplot as plt\n",
    "from sklearn.tree import export_graphviz\n",
    "from sklearn.tree import DecisionTreeClassifier, plot_tree"
   ]
  },
  {
   "cell_type": "code",
   "execution_count": 2,
   "metadata": {},
   "outputs": [
    {
     "data": {
      "text/html": [
       "<div>\n",
       "<style scoped>\n",
       "    .dataframe tbody tr th:only-of-type {\n",
       "        vertical-align: middle;\n",
       "    }\n",
       "\n",
       "    .dataframe tbody tr th {\n",
       "        vertical-align: top;\n",
       "    }\n",
       "\n",
       "    .dataframe thead th {\n",
       "        text-align: right;\n",
       "    }\n",
       "</style>\n",
       "<table border=\"1\" class=\"dataframe\">\n",
       "  <thead>\n",
       "    <tr style=\"text-align: right;\">\n",
       "      <th></th>\n",
       "      <th>idade</th>\n",
       "      <th>fumante</th>\n",
       "      <th>pressao</th>\n",
       "      <th>doenca</th>\n",
       "    </tr>\n",
       "  </thead>\n",
       "  <tbody>\n",
       "    <tr>\n",
       "      <th>0</th>\n",
       "      <td>22</td>\n",
       "      <td>0</td>\n",
       "      <td>alta</td>\n",
       "      <td>0</td>\n",
       "    </tr>\n",
       "    <tr>\n",
       "      <th>1</th>\n",
       "      <td>35</td>\n",
       "      <td>1</td>\n",
       "      <td>baixa</td>\n",
       "      <td>1</td>\n",
       "    </tr>\n",
       "    <tr>\n",
       "      <th>2</th>\n",
       "      <td>26</td>\n",
       "      <td>0</td>\n",
       "      <td>normal</td>\n",
       "      <td>0</td>\n",
       "    </tr>\n",
       "    <tr>\n",
       "      <th>3</th>\n",
       "      <td>45</td>\n",
       "      <td>1</td>\n",
       "      <td>alta</td>\n",
       "      <td>1</td>\n",
       "    </tr>\n",
       "    <tr>\n",
       "      <th>4</th>\n",
       "      <td>27</td>\n",
       "      <td>0</td>\n",
       "      <td>baixa</td>\n",
       "      <td>1</td>\n",
       "    </tr>\n",
       "    <tr>\n",
       "      <th>5</th>\n",
       "      <td>50</td>\n",
       "      <td>1</td>\n",
       "      <td>normal</td>\n",
       "      <td>1</td>\n",
       "    </tr>\n",
       "    <tr>\n",
       "      <th>6</th>\n",
       "      <td>29</td>\n",
       "      <td>1</td>\n",
       "      <td>normal</td>\n",
       "      <td>1</td>\n",
       "    </tr>\n",
       "    <tr>\n",
       "      <th>7</th>\n",
       "      <td>41</td>\n",
       "      <td>0</td>\n",
       "      <td>alta</td>\n",
       "      <td>0</td>\n",
       "    </tr>\n",
       "    <tr>\n",
       "      <th>8</th>\n",
       "      <td>33</td>\n",
       "      <td>1</td>\n",
       "      <td>baixa</td>\n",
       "      <td>1</td>\n",
       "    </tr>\n",
       "    <tr>\n",
       "      <th>9</th>\n",
       "      <td>38</td>\n",
       "      <td>0</td>\n",
       "      <td>baixa</td>\n",
       "      <td>0</td>\n",
       "    </tr>\n",
       "    <tr>\n",
       "      <th>10</th>\n",
       "      <td>24</td>\n",
       "      <td>0</td>\n",
       "      <td>normal</td>\n",
       "      <td>0</td>\n",
       "    </tr>\n",
       "    <tr>\n",
       "      <th>11</th>\n",
       "      <td>48</td>\n",
       "      <td>1</td>\n",
       "      <td>alta</td>\n",
       "      <td>1</td>\n",
       "    </tr>\n",
       "  </tbody>\n",
       "</table>\n",
       "</div>"
      ],
      "text/plain": [
       "    idade  fumante pressao  doenca\n",
       "0      22        0    alta       0\n",
       "1      35        1   baixa       1\n",
       "2      26        0  normal       0\n",
       "3      45        1    alta       1\n",
       "4      27        0   baixa       1\n",
       "5      50        1  normal       1\n",
       "6      29        1  normal       1\n",
       "7      41        0    alta       0\n",
       "8      33        1   baixa       1\n",
       "9      38        0   baixa       0\n",
       "10     24        0  normal       0\n",
       "11     48        1    alta       1"
      ]
     },
     "execution_count": 2,
     "metadata": {},
     "output_type": "execute_result"
    }
   ],
   "source": [
    "data = {\n",
    "    'idade': [22, 35, 26, 45, 27, 50, 29, 41, 33, 38, 24, 48],\n",
    "    'fumante': [0, 1, 0, 1, 0, 1, 1, 0, 1, 0, 0, 1],\n",
    "    'pressao': ['alta', 'baixa', 'normal', 'alta', 'baixa', 'normal',\n",
    "                'normal', 'alta', 'baixa', 'baixa', 'normal', 'alta'],\n",
    "    'doenca':  [0, 1, 0, 1, 1, 1, 1, 0, 1, 0, 0, 1]\n",
    "}\n",
    "\n",
    "df = pd.DataFrame(data)\n",
    "df"
   ]
  },
  {
   "cell_type": "code",
   "execution_count": 3,
   "metadata": {},
   "outputs": [],
   "source": [
    "# Funções para cálculo da impureza de Gini\n",
    "def gini_impurity(y):\n",
    "    prob = y.value_counts(normalize=True)\n",
    "    return 1 - sum(prob ** 2)\n",
    "\n",
    "def weighted_gini(groups):\n",
    "    total = sum(len(group) for group in groups)\n",
    "    return sum((len(group) / total) * gini_impurity(group) for group in groups)"
   ]
  },
  {
   "cell_type": "code",
   "execution_count": 4,
   "metadata": {},
   "outputs": [
    {
     "data": {
      "text/plain": [
       "0.48611111111111105"
      ]
     },
     "execution_count": 4,
     "metadata": {},
     "output_type": "execute_result"
    }
   ],
   "source": [
    "# Gini do conjunto completo\n",
    "gini_total = gini_impurity(df['doenca'])\n",
    "gini_total"
   ]
  },
  {
   "cell_type": "code",
   "execution_count": 5,
   "metadata": {},
   "outputs": [
    {
     "data": {
      "text/plain": [
       "0.45833333333333326"
      ]
     },
     "execution_count": 5,
     "metadata": {},
     "output_type": "execute_result"
    }
   ],
   "source": [
    "# Gini para divisão: pressao\n",
    "groups = [df[df['pressao'] == v]['doenca'] for v in df['pressao'].unique()]\n",
    "gini_pressao = weighted_gini(groups)\n",
    "gini_pressao"
   ]
  },
  {
   "cell_type": "code",
   "execution_count": 6,
   "metadata": {},
   "outputs": [
    {
     "data": {
      "image/svg+xml": [
       "<?xml version=\"1.0\" encoding=\"UTF-8\" standalone=\"no\"?>\n",
       "<!DOCTYPE svg PUBLIC \"-//W3C//DTD SVG 1.1//EN\"\n",
       " \"http://www.w3.org/Graphics/SVG/1.1/DTD/svg11.dtd\">\n",
       "<!-- Generated by graphviz version 2.43.0 (0)\n",
       " -->\n",
       "<!-- Title: %3 Pages: 1 -->\n",
       "<svg width=\"252pt\" height=\"131pt\"\n",
       " viewBox=\"0.00 0.00 252.09 131.00\" xmlns=\"http://www.w3.org/2000/svg\" xmlns:xlink=\"http://www.w3.org/1999/xlink\">\n",
       "<g id=\"graph0\" class=\"graph\" transform=\"scale(1 1) rotate(0) translate(4 127)\">\n",
       "<title>%3</title>\n",
       "<polygon fill=\"white\" stroke=\"transparent\" points=\"-4,4 -4,-127 248.09,-127 248.09,4 -4,4\"/>\n",
       "<!-- A -->\n",
       "<g id=\"node1\" class=\"node\">\n",
       "<title>A</title>\n",
       "<ellipse fill=\"none\" stroke=\"black\" cx=\"109.85\" cy=\"-105\" rx=\"79.09\" ry=\"18\"/>\n",
       "<text text-anchor=\"middle\" x=\"109.85\" y=\"-101.3\" font-family=\"Times,serif\" font-size=\"14.00\">Pressão = Alta</text>\n",
       "</g>\n",
       "<!-- B -->\n",
       "<g id=\"node2\" class=\"node\">\n",
       "<title>B</title>\n",
       "<ellipse fill=\"none\" stroke=\"black\" cx=\"44.85\" cy=\"-18\" rx=\"44.69\" ry=\"18\"/>\n",
       "<text text-anchor=\"middle\" x=\"44.85\" y=\"-14.3\" font-family=\"Times,serif\" font-size=\"14.00\">Doença</text>\n",
       "</g>\n",
       "<!-- A&#45;&gt;B -->\n",
       "<g id=\"edge1\" class=\"edge\">\n",
       "<title>A&#45;&gt;B</title>\n",
       "<path fill=\"none\" stroke=\"black\" d=\"M97,-87.21C87.51,-74.79 74.42,-57.67 63.73,-43.7\"/>\n",
       "<polygon fill=\"black\" stroke=\"black\" points=\"66.29,-41.29 57.44,-35.47 60.73,-45.54 66.29,-41.29\"/>\n",
       "<text text-anchor=\"middle\" x=\"95.85\" y=\"-57.8\" font-family=\"Times,serif\" font-size=\"14.00\">Sim</text>\n",
       "</g>\n",
       "<!-- C -->\n",
       "<g id=\"node3\" class=\"node\">\n",
       "<title>C</title>\n",
       "<ellipse fill=\"none\" stroke=\"black\" cx=\"175.85\" cy=\"-18\" rx=\"68.49\" ry=\"18\"/>\n",
       "<text text-anchor=\"middle\" x=\"175.85\" y=\"-14.3\" font-family=\"Times,serif\" font-size=\"14.00\">Sem Doença</text>\n",
       "</g>\n",
       "<!-- A&#45;&gt;C -->\n",
       "<g id=\"edge2\" class=\"edge\">\n",
       "<title>A&#45;&gt;C</title>\n",
       "<path fill=\"none\" stroke=\"black\" d=\"M122.89,-87.21C132.47,-74.87 145.65,-57.89 156.46,-43.97\"/>\n",
       "<polygon fill=\"black\" stroke=\"black\" points=\"159.47,-45.8 162.83,-35.76 153.94,-41.51 159.47,-45.8\"/>\n",
       "<text text-anchor=\"middle\" x=\"160.35\" y=\"-57.8\" font-family=\"Times,serif\" font-size=\"14.00\">Não</text>\n",
       "</g>\n",
       "</g>\n",
       "</svg>\n"
      ],
      "text/plain": [
       "<graphviz.graphs.Digraph at 0x7cee01ff68d0>"
      ]
     },
     "execution_count": 6,
     "metadata": {},
     "output_type": "execute_result"
    }
   ],
   "source": [
    "tree1 = Digraph()\n",
    "tree1.attr(rankdir='TB')\n",
    "tree1.node('A', 'Pressão = Alta')\n",
    "tree1.node('B', 'Doença')\n",
    "tree1.node('C', 'Sem Doença')\n",
    "tree1.edge('A', 'B', label='Sim')\n",
    "tree1.edge('A', 'C', label='Não')\n",
    "tree1"
   ]
  },
  {
   "cell_type": "code",
   "execution_count": 7,
   "metadata": {},
   "outputs": [
    {
     "data": {
      "text/plain": [
       "0.13888888888888884"
      ]
     },
     "execution_count": 7,
     "metadata": {},
     "output_type": "execute_result"
    }
   ],
   "source": [
    "# Gini para divisão: fumante\n",
    "left = df[df['fumante'] == 1]['doenca']\n",
    "right = df[df['fumante'] == 0]['doenca']\n",
    "gini_fumante = weighted_gini([left, right])\n",
    "gini_fumante"
   ]
  },
  {
   "cell_type": "code",
   "execution_count": 8,
   "metadata": {},
   "outputs": [
    {
     "data": {
      "text/plain": [
       "0.4380952380952381"
      ]
     },
     "execution_count": 8,
     "metadata": {},
     "output_type": "execute_result"
    }
   ],
   "source": [
    "# Gini para divisão: idade <= 30\n",
    "left = df[df['idade'] <= 30]['doenca']\n",
    "right = df[df['idade'] > 30]['doenca']\n",
    "gini_idade = weighted_gini([left, right])\n",
    "gini_idade"
   ]
  },
  {
   "cell_type": "code",
   "execution_count": 9,
   "metadata": {},
   "outputs": [
    {
     "data": {
      "image/svg+xml": [
       "<?xml version=\"1.0\" encoding=\"UTF-8\" standalone=\"no\"?>\n",
       "<!DOCTYPE svg PUBLIC \"-//W3C//DTD SVG 1.1//EN\"\n",
       " \"http://www.w3.org/Graphics/SVG/1.1/DTD/svg11.dtd\">\n",
       "<!-- Generated by graphviz version 2.43.0 (0)\n",
       " -->\n",
       "<!-- Title: %3 Pages: 1 -->\n",
       "<svg width=\"306pt\" height=\"204pt\"\n",
       " viewBox=\"0.00 0.00 305.74 204.00\" xmlns=\"http://www.w3.org/2000/svg\" xmlns:xlink=\"http://www.w3.org/1999/xlink\">\n",
       "<g id=\"graph0\" class=\"graph\" transform=\"scale(1 1) rotate(0) translate(4 200)\">\n",
       "<title>%3</title>\n",
       "<polygon fill=\"white\" stroke=\"transparent\" points=\"-4,4 -4,-200 301.74,-200 301.74,4 -4,4\"/>\n",
       "<!-- X -->\n",
       "<g id=\"node1\" class=\"node\">\n",
       "<title>X</title>\n",
       "<ellipse fill=\"none\" stroke=\"black\" cx=\"150.49\" cy=\"-178\" rx=\"69.59\" ry=\"18\"/>\n",
       "<text text-anchor=\"middle\" x=\"150.49\" y=\"-174.3\" font-family=\"Times,serif\" font-size=\"14.00\">Idade &lt;= 30</text>\n",
       "</g>\n",
       "<!-- Y -->\n",
       "<g id=\"node2\" class=\"node\">\n",
       "<title>Y</title>\n",
       "<ellipse fill=\"none\" stroke=\"black\" cx=\"71.49\" cy=\"-91\" rx=\"71.49\" ry=\"18\"/>\n",
       "<text text-anchor=\"middle\" x=\"71.49\" y=\"-87.3\" font-family=\"Times,serif\" font-size=\"14.00\">Fumante = 1</text>\n",
       "</g>\n",
       "<!-- X&#45;&gt;Y -->\n",
       "<g id=\"edge1\" class=\"edge\">\n",
       "<title>X&#45;&gt;Y</title>\n",
       "<path fill=\"none\" stroke=\"black\" d=\"M134.89,-160.21C123.2,-147.63 107.05,-130.25 93.97,-116.18\"/>\n",
       "<polygon fill=\"black\" stroke=\"black\" points=\"96.44,-113.7 87.07,-108.76 91.31,-118.47 96.44,-113.7\"/>\n",
       "<text text-anchor=\"middle\" x=\"130.49\" y=\"-130.8\" font-family=\"Times,serif\" font-size=\"14.00\">Sim</text>\n",
       "</g>\n",
       "<!-- W -->\n",
       "<g id=\"node4\" class=\"node\">\n",
       "<title>W</title>\n",
       "<ellipse fill=\"none\" stroke=\"black\" cx=\"229.49\" cy=\"-91\" rx=\"68.49\" ry=\"18\"/>\n",
       "<text text-anchor=\"middle\" x=\"229.49\" y=\"-87.3\" font-family=\"Times,serif\" font-size=\"14.00\">Sem Doença</text>\n",
       "</g>\n",
       "<!-- X&#45;&gt;W -->\n",
       "<g id=\"edge2\" class=\"edge\">\n",
       "<title>X&#45;&gt;W</title>\n",
       "<path fill=\"none\" stroke=\"black\" d=\"M166.1,-160.21C177.79,-147.63 193.94,-130.25 207.02,-116.18\"/>\n",
       "<polygon fill=\"black\" stroke=\"black\" points=\"209.67,-118.47 213.92,-108.76 204.55,-113.7 209.67,-118.47\"/>\n",
       "<text text-anchor=\"middle\" x=\"208.99\" y=\"-130.8\" font-family=\"Times,serif\" font-size=\"14.00\">Não</text>\n",
       "</g>\n",
       "<!-- Z -->\n",
       "<g id=\"node3\" class=\"node\">\n",
       "<title>Z</title>\n",
       "<ellipse fill=\"none\" stroke=\"black\" cx=\"71.49\" cy=\"-18\" rx=\"44.69\" ry=\"18\"/>\n",
       "<text text-anchor=\"middle\" x=\"71.49\" y=\"-14.3\" font-family=\"Times,serif\" font-size=\"14.00\">Doença</text>\n",
       "</g>\n",
       "<!-- Y&#45;&gt;Z -->\n",
       "<g id=\"edge3\" class=\"edge\">\n",
       "<title>Y&#45;&gt;Z</title>\n",
       "<path fill=\"none\" stroke=\"black\" d=\"M71.49,-72.81C71.49,-64.79 71.49,-55.05 71.49,-46.07\"/>\n",
       "<polygon fill=\"black\" stroke=\"black\" points=\"74.99,-46.03 71.49,-36.03 67.99,-46.03 74.99,-46.03\"/>\n",
       "</g>\n",
       "</g>\n",
       "</svg>\n"
      ],
      "text/plain": [
       "<graphviz.graphs.Digraph at 0x7cee01ff6f10>"
      ]
     },
     "execution_count": 9,
     "metadata": {},
     "output_type": "execute_result"
    }
   ],
   "source": [
    "tree2 = Digraph()\n",
    "tree2.attr(rankdir='TB')\n",
    "tree2.node('X', 'Idade <= 30')\n",
    "tree2.node('Y', 'Fumante = 1')\n",
    "tree2.node('Z', 'Doença')\n",
    "tree2.node('W', 'Sem Doença')\n",
    "tree2.edge('X', 'Y', label='Sim')\n",
    "tree2.edge('X', 'W', label='Não')\n",
    "tree2.edge('Y', 'Z')\n",
    "tree2"
   ]
  },
  {
   "cell_type": "code",
   "execution_count": 28,
   "metadata": {},
   "outputs": [
    {
     "name": "stdout",
     "output_type": "stream",
     "text": [
      "Cortes testados e respectivos valores de Gini:\n",
      "\n",
      "Corte: idade <= 23.0 | Gini: 0.4242\n",
      "Corte: idade <= 25.0 | Gini: 0.3500\n",
      "Corte: idade <= 26.5 | Gini: 0.2593\n",
      "Corte: idade <= 28.0 | Gini: 0.3750\n",
      "Corte: idade <= 31.0 | Gini: 0.4381\n",
      "Corte: idade <= 34.0 | Gini: 0.4722\n",
      "Corte: idade <= 36.5 | Gini: 0.4857\n",
      "Corte: idade <= 39.5 | Gini: 0.4583\n",
      "Corte: idade <= 43.0 | Gini: 0.3704\n",
      "Corte: idade <= 46.5 | Gini: 0.4167\n",
      "Corte: idade <= 49.0 | Gini: 0.4545\n",
      "\n",
      "Melhor divisão encontrada:\n",
      "Idade <= 26.5 | Gini correspondente: 0.2593\n"
     ]
    }
   ],
   "source": [
    "# Ordenar as idades únicas\n",
    "idades_unicas = sorted(df['idade'].unique())\n",
    "\n",
    "# Calcular os pontos médios entre pares consecutivos\n",
    "cortes = [(idades_unicas[i] + idades_unicas[i+1]) / 2 for i in range(len(idades_unicas) - 1)]\n",
    "\n",
    "melhor_gini = float('inf')\n",
    "melhor_corte = None\n",
    "\n",
    "print(\"Cortes testados e respectivos valores de Gini:\\n\")\n",
    "\n",
    "for corte in cortes:\n",
    "    esquerda = df[df['idade'] <= corte]['doenca']\n",
    "    direita = df[df['idade'] > corte]['doenca']\n",
    "    gini = weighted_gini([esquerda, direita])\n",
    "    \n",
    "    print(f\"Corte: idade <= {corte:.1f} | Gini: {gini:.4f}\")\n",
    "    \n",
    "    if gini < melhor_gini:\n",
    "        melhor_gini = gini\n",
    "        melhor_corte = corte\n",
    "\n",
    "print(\"\\nMelhor divisão encontrada:\")\n",
    "print(f\"Idade <= {melhor_corte:.1f} | Gini correspondente: {melhor_gini:.4f}\")"
   ]
  },
  {
   "cell_type": "code",
   "execution_count": 26,
   "metadata": {},
   "outputs": [
    {
     "data": {
      "text/html": [
       "<div>\n",
       "<style scoped>\n",
       "    .dataframe tbody tr th:only-of-type {\n",
       "        vertical-align: middle;\n",
       "    }\n",
       "\n",
       "    .dataframe tbody tr th {\n",
       "        vertical-align: top;\n",
       "    }\n",
       "\n",
       "    .dataframe thead th {\n",
       "        text-align: right;\n",
       "    }\n",
       "</style>\n",
       "<table border=\"1\" class=\"dataframe\">\n",
       "  <thead>\n",
       "    <tr style=\"text-align: right;\">\n",
       "      <th></th>\n",
       "      <th>Critério</th>\n",
       "      <th>Gini</th>\n",
       "    </tr>\n",
       "  </thead>\n",
       "  <tbody>\n",
       "    <tr>\n",
       "      <th>0</th>\n",
       "      <td>Fumante</td>\n",
       "      <td>0.138889</td>\n",
       "    </tr>\n",
       "    <tr>\n",
       "      <th>1</th>\n",
       "      <td>Idade &lt;= 26.5</td>\n",
       "      <td>0.438095</td>\n",
       "    </tr>\n",
       "    <tr>\n",
       "      <th>2</th>\n",
       "      <td>Pressão Arterial</td>\n",
       "      <td>0.458333</td>\n",
       "    </tr>\n",
       "    <tr>\n",
       "      <th>3</th>\n",
       "      <td>Total</td>\n",
       "      <td>0.486111</td>\n",
       "    </tr>\n",
       "  </tbody>\n",
       "</table>\n",
       "</div>"
      ],
      "text/plain": [
       "           Critério      Gini\n",
       "0           Fumante  0.138889\n",
       "1     Idade <= 26.5  0.438095\n",
       "2  Pressão Arterial  0.458333\n",
       "3             Total  0.486111"
      ]
     },
     "execution_count": 26,
     "metadata": {},
     "output_type": "execute_result"
    }
   ],
   "source": [
    "# Comparando os resultados\n",
    "resultados = pd.DataFrame({\n",
    "    'Critério': ['Total', 'Idade <= ' + str(melhor_corte), 'Fumante', 'Pressão Arterial'],\n",
    "    'Gini': [gini_total, gini_idade, gini_fumante, gini_pressao]\n",
    "})\n",
    "resultados = resultados.sort_values(by=\"Gini\", ascending=True).reset_index(drop=True)\n",
    "resultados"
   ]
  },
  {
   "cell_type": "code",
   "execution_count": 23,
   "metadata": {},
   "outputs": [
    {
     "data": {
      "text/html": [
       "<div>\n",
       "<style scoped>\n",
       "    .dataframe tbody tr th:only-of-type {\n",
       "        vertical-align: middle;\n",
       "    }\n",
       "\n",
       "    .dataframe tbody tr th {\n",
       "        vertical-align: top;\n",
       "    }\n",
       "\n",
       "    .dataframe thead th {\n",
       "        text-align: right;\n",
       "    }\n",
       "</style>\n",
       "<table border=\"1\" class=\"dataframe\">\n",
       "  <thead>\n",
       "    <tr style=\"text-align: right;\">\n",
       "      <th></th>\n",
       "      <th>idade</th>\n",
       "      <th>fumante</th>\n",
       "      <th>doenca</th>\n",
       "      <th>pressao_baixa</th>\n",
       "      <th>pressao_normal</th>\n",
       "    </tr>\n",
       "  </thead>\n",
       "  <tbody>\n",
       "    <tr>\n",
       "      <th>0</th>\n",
       "      <td>22</td>\n",
       "      <td>0</td>\n",
       "      <td>0</td>\n",
       "      <td>False</td>\n",
       "      <td>False</td>\n",
       "    </tr>\n",
       "    <tr>\n",
       "      <th>1</th>\n",
       "      <td>35</td>\n",
       "      <td>1</td>\n",
       "      <td>1</td>\n",
       "      <td>True</td>\n",
       "      <td>False</td>\n",
       "    </tr>\n",
       "    <tr>\n",
       "      <th>2</th>\n",
       "      <td>26</td>\n",
       "      <td>0</td>\n",
       "      <td>0</td>\n",
       "      <td>False</td>\n",
       "      <td>True</td>\n",
       "    </tr>\n",
       "  </tbody>\n",
       "</table>\n",
       "</div>"
      ],
      "text/plain": [
       "   idade  fumante  doenca  pressao_baixa  pressao_normal\n",
       "0     22        0       0          False           False\n",
       "1     35        1       1           True           False\n",
       "2     26        0       0          False            True"
      ]
     },
     "execution_count": 23,
     "metadata": {},
     "output_type": "execute_result"
    }
   ],
   "source": [
    "# Pré-processamento: transformar variáveis categóricas\n",
    "df_encoded = pd.get_dummies(df, columns=[\"pressao\"], drop_first=True)\n",
    "df_encoded.head(3)"
   ]
  },
  {
   "cell_type": "code",
   "execution_count": null,
   "metadata": {},
   "outputs": [],
   "source": [
    "# Separar X e y\n",
    "X = df_encoded.drop(columns=\"doenca\")\n",
    "y = df_encoded[\"doenca\"]\n",
    "\n",
    "# Treinar a árvore\n",
    "clf = DecisionTreeClassifier(random_state=42, max_depth=3)  # você pode ajustar max_depth se quiser\n",
    "clf.fit(X, y)"
   ]
  },
  {
   "cell_type": "code",
   "execution_count": 20,
   "metadata": {},
   "outputs": [
    {
     "data": {
      "image/svg+xml": [
       "<?xml version=\"1.0\" encoding=\"UTF-8\" standalone=\"no\"?>\n",
       "<!DOCTYPE svg PUBLIC \"-//W3C//DTD SVG 1.1//EN\"\n",
       " \"http://www.w3.org/Graphics/SVG/1.1/DTD/svg11.dtd\">\n",
       "<!-- Generated by graphviz version 2.43.0 (0)\n",
       " -->\n",
       "<!-- Title: Tree Pages: 1 -->\n",
       "<svg width=\"424pt\" height=\"433pt\"\n",
       " viewBox=\"0.00 0.00 424.00 433.00\" xmlns=\"http://www.w3.org/2000/svg\" xmlns:xlink=\"http://www.w3.org/1999/xlink\">\n",
       "<g id=\"graph0\" class=\"graph\" transform=\"scale(1 1) rotate(0) translate(4 429)\">\n",
       "<title>Tree</title>\n",
       "<polygon fill=\"white\" stroke=\"transparent\" points=\"-4,4 -4,-429 420,-429 420,4 -4,4\"/>\n",
       "<!-- 0 -->\n",
       "<g id=\"node1\" class=\"node\">\n",
       "<title>0</title>\n",
       "<path fill=\"#c6e3f8\" stroke=\"black\" d=\"M296.5,-425C296.5,-425 196.5,-425 196.5,-425 190.5,-425 184.5,-419 184.5,-413 184.5,-413 184.5,-354 184.5,-354 184.5,-348 190.5,-342 196.5,-342 196.5,-342 296.5,-342 296.5,-342 302.5,-342 308.5,-348 308.5,-354 308.5,-354 308.5,-413 308.5,-413 308.5,-419 302.5,-425 296.5,-425\"/>\n",
       "<text text-anchor=\"start\" x=\"195\" y=\"-409.8\" font-family=\"Helvetica,sans-Serif\" font-size=\"14.00\">fumante ≤ 0.5</text>\n",
       "<text text-anchor=\"start\" x=\"202.5\" y=\"-394.8\" font-family=\"Helvetica,sans-Serif\" font-size=\"14.00\">gini = 0.486</text>\n",
       "<text text-anchor=\"start\" x=\"198\" y=\"-379.8\" font-family=\"Helvetica,sans-Serif\" font-size=\"14.00\">samples = 12</text>\n",
       "<text text-anchor=\"start\" x=\"198\" y=\"-364.8\" font-family=\"Helvetica,sans-Serif\" font-size=\"14.00\">value = [5, 7]</text>\n",
       "<text text-anchor=\"start\" x=\"192.5\" y=\"-349.8\" font-family=\"Helvetica,sans-Serif\" font-size=\"14.00\">class = Doença</text>\n",
       "</g>\n",
       "<!-- 1 -->\n",
       "<g id=\"node2\" class=\"node\">\n",
       "<title>1</title>\n",
       "<path fill=\"#ea9a61\" stroke=\"black\" d=\"M235,-306C235,-306 100,-306 100,-306 94,-306 88,-300 88,-294 88,-294 88,-235 88,-235 88,-229 94,-223 100,-223 100,-223 235,-223 235,-223 241,-223 247,-229 247,-235 247,-235 247,-294 247,-294 247,-300 241,-306 235,-306\"/>\n",
       "<text text-anchor=\"start\" x=\"96.5\" y=\"-290.8\" font-family=\"Helvetica,sans-Serif\" font-size=\"14.00\">pressao_baixa ≤ 0.5</text>\n",
       "<text text-anchor=\"start\" x=\"123.5\" y=\"-275.8\" font-family=\"Helvetica,sans-Serif\" font-size=\"14.00\">gini = 0.278</text>\n",
       "<text text-anchor=\"start\" x=\"123.5\" y=\"-260.8\" font-family=\"Helvetica,sans-Serif\" font-size=\"14.00\">samples = 6</text>\n",
       "<text text-anchor=\"start\" x=\"119\" y=\"-245.8\" font-family=\"Helvetica,sans-Serif\" font-size=\"14.00\">value = [5, 1]</text>\n",
       "<text text-anchor=\"start\" x=\"96\" y=\"-230.8\" font-family=\"Helvetica,sans-Serif\" font-size=\"14.00\">class = Sem Doença</text>\n",
       "</g>\n",
       "<!-- 0&#45;&gt;1 -->\n",
       "<g id=\"edge1\" class=\"edge\">\n",
       "<title>0&#45;&gt;1</title>\n",
       "<path fill=\"none\" stroke=\"black\" d=\"M219.09,-341.91C213.09,-333.01 206.67,-323.51 200.47,-314.33\"/>\n",
       "<polygon fill=\"black\" stroke=\"black\" points=\"203.36,-312.35 194.86,-306.02 197.56,-316.27 203.36,-312.35\"/>\n",
       "<text text-anchor=\"middle\" x=\"190.1\" y=\"-326.86\" font-family=\"Helvetica,sans-Serif\" font-size=\"14.00\">True</text>\n",
       "</g>\n",
       "<!-- 6 -->\n",
       "<g id=\"node7\" class=\"node\">\n",
       "<title>6</title>\n",
       "<path fill=\"#399de5\" stroke=\"black\" d=\"M376.5,-298.5C376.5,-298.5 276.5,-298.5 276.5,-298.5 270.5,-298.5 264.5,-292.5 264.5,-286.5 264.5,-286.5 264.5,-242.5 264.5,-242.5 264.5,-236.5 270.5,-230.5 276.5,-230.5 276.5,-230.5 376.5,-230.5 376.5,-230.5 382.5,-230.5 388.5,-236.5 388.5,-242.5 388.5,-242.5 388.5,-286.5 388.5,-286.5 388.5,-292.5 382.5,-298.5 376.5,-298.5\"/>\n",
       "<text text-anchor=\"start\" x=\"291.5\" y=\"-283.3\" font-family=\"Helvetica,sans-Serif\" font-size=\"14.00\">gini = 0.0</text>\n",
       "<text text-anchor=\"start\" x=\"282.5\" y=\"-268.3\" font-family=\"Helvetica,sans-Serif\" font-size=\"14.00\">samples = 6</text>\n",
       "<text text-anchor=\"start\" x=\"278\" y=\"-253.3\" font-family=\"Helvetica,sans-Serif\" font-size=\"14.00\">value = [0, 6]</text>\n",
       "<text text-anchor=\"start\" x=\"272.5\" y=\"-238.3\" font-family=\"Helvetica,sans-Serif\" font-size=\"14.00\">class = Doença</text>\n",
       "</g>\n",
       "<!-- 0&#45;&gt;6 -->\n",
       "<g id=\"edge6\" class=\"edge\">\n",
       "<title>0&#45;&gt;6</title>\n",
       "<path fill=\"none\" stroke=\"black\" d=\"M274.26,-341.91C281.95,-330.65 290.32,-318.42 298.05,-307.11\"/>\n",
       "<polygon fill=\"black\" stroke=\"black\" points=\"301.07,-308.9 303.82,-298.67 295.29,-304.95 301.07,-308.9\"/>\n",
       "<text text-anchor=\"middle\" x=\"308.44\" y=\"-319.54\" font-family=\"Helvetica,sans-Serif\" font-size=\"14.00\">False</text>\n",
       "</g>\n",
       "<!-- 2 -->\n",
       "<g id=\"node3\" class=\"node\">\n",
       "<title>2</title>\n",
       "<path fill=\"#e58139\" stroke=\"black\" d=\"M147,-179.5C147,-179.5 12,-179.5 12,-179.5 6,-179.5 0,-173.5 0,-167.5 0,-167.5 0,-123.5 0,-123.5 0,-117.5 6,-111.5 12,-111.5 12,-111.5 147,-111.5 147,-111.5 153,-111.5 159,-117.5 159,-123.5 159,-123.5 159,-167.5 159,-167.5 159,-173.5 153,-179.5 147,-179.5\"/>\n",
       "<text text-anchor=\"start\" x=\"44.5\" y=\"-164.3\" font-family=\"Helvetica,sans-Serif\" font-size=\"14.00\">gini = 0.0</text>\n",
       "<text text-anchor=\"start\" x=\"35.5\" y=\"-149.3\" font-family=\"Helvetica,sans-Serif\" font-size=\"14.00\">samples = 4</text>\n",
       "<text text-anchor=\"start\" x=\"31\" y=\"-134.3\" font-family=\"Helvetica,sans-Serif\" font-size=\"14.00\">value = [4, 0]</text>\n",
       "<text text-anchor=\"start\" x=\"8\" y=\"-119.3\" font-family=\"Helvetica,sans-Serif\" font-size=\"14.00\">class = Sem Doença</text>\n",
       "</g>\n",
       "<!-- 1&#45;&gt;2 -->\n",
       "<g id=\"edge2\" class=\"edge\">\n",
       "<title>1&#45;&gt;2</title>\n",
       "<path fill=\"none\" stroke=\"black\" d=\"M136.97,-222.91C128.42,-211.54 119.12,-199.18 110.54,-187.77\"/>\n",
       "<polygon fill=\"black\" stroke=\"black\" points=\"113.25,-185.55 104.45,-179.67 107.66,-189.76 113.25,-185.55\"/>\n",
       "</g>\n",
       "<!-- 3 -->\n",
       "<g id=\"node4\" class=\"node\">\n",
       "<title>3</title>\n",
       "<path fill=\"#ffffff\" stroke=\"black\" d=\"M324,-187C324,-187 189,-187 189,-187 183,-187 177,-181 177,-175 177,-175 177,-116 177,-116 177,-110 183,-104 189,-104 189,-104 324,-104 324,-104 330,-104 336,-110 336,-116 336,-116 336,-175 336,-175 336,-181 330,-187 324,-187\"/>\n",
       "<text text-anchor=\"start\" x=\"211\" y=\"-171.8\" font-family=\"Helvetica,sans-Serif\" font-size=\"14.00\">idade ≤ 32.5</text>\n",
       "<text text-anchor=\"start\" x=\"221.5\" y=\"-156.8\" font-family=\"Helvetica,sans-Serif\" font-size=\"14.00\">gini = 0.5</text>\n",
       "<text text-anchor=\"start\" x=\"212.5\" y=\"-141.8\" font-family=\"Helvetica,sans-Serif\" font-size=\"14.00\">samples = 2</text>\n",
       "<text text-anchor=\"start\" x=\"208\" y=\"-126.8\" font-family=\"Helvetica,sans-Serif\" font-size=\"14.00\">value = [1, 1]</text>\n",
       "<text text-anchor=\"start\" x=\"185\" y=\"-111.8\" font-family=\"Helvetica,sans-Serif\" font-size=\"14.00\">class = Sem Doença</text>\n",
       "</g>\n",
       "<!-- 1&#45;&gt;3 -->\n",
       "<g id=\"edge3\" class=\"edge\">\n",
       "<title>1&#45;&gt;3</title>\n",
       "<path fill=\"none\" stroke=\"black\" d=\"M198.38,-222.91C205.21,-213.92 212.52,-204.32 219.57,-195.05\"/>\n",
       "<polygon fill=\"black\" stroke=\"black\" points=\"222.41,-197.1 225.68,-187.02 216.84,-192.86 222.41,-197.1\"/>\n",
       "</g>\n",
       "<!-- 4 -->\n",
       "<g id=\"node5\" class=\"node\">\n",
       "<title>4</title>\n",
       "<path fill=\"#399de5\" stroke=\"black\" d=\"M226.5,-68C226.5,-68 126.5,-68 126.5,-68 120.5,-68 114.5,-62 114.5,-56 114.5,-56 114.5,-12 114.5,-12 114.5,-6 120.5,0 126.5,0 126.5,0 226.5,0 226.5,0 232.5,0 238.5,-6 238.5,-12 238.5,-12 238.5,-56 238.5,-56 238.5,-62 232.5,-68 226.5,-68\"/>\n",
       "<text text-anchor=\"start\" x=\"141.5\" y=\"-52.8\" font-family=\"Helvetica,sans-Serif\" font-size=\"14.00\">gini = 0.0</text>\n",
       "<text text-anchor=\"start\" x=\"132.5\" y=\"-37.8\" font-family=\"Helvetica,sans-Serif\" font-size=\"14.00\">samples = 1</text>\n",
       "<text text-anchor=\"start\" x=\"128\" y=\"-22.8\" font-family=\"Helvetica,sans-Serif\" font-size=\"14.00\">value = [0, 1]</text>\n",
       "<text text-anchor=\"start\" x=\"122.5\" y=\"-7.8\" font-family=\"Helvetica,sans-Serif\" font-size=\"14.00\">class = Doença</text>\n",
       "</g>\n",
       "<!-- 3&#45;&gt;4 -->\n",
       "<g id=\"edge4\" class=\"edge\">\n",
       "<title>3&#45;&gt;4</title>\n",
       "<path fill=\"none\" stroke=\"black\" d=\"M226.71,-103.73C220.25,-94.88 213.4,-85.51 206.91,-76.63\"/>\n",
       "<polygon fill=\"black\" stroke=\"black\" points=\"209.55,-74.31 200.83,-68.3 203.9,-78.44 209.55,-74.31\"/>\n",
       "</g>\n",
       "<!-- 5 -->\n",
       "<g id=\"node6\" class=\"node\">\n",
       "<title>5</title>\n",
       "<path fill=\"#e58139\" stroke=\"black\" d=\"M404,-68C404,-68 269,-68 269,-68 263,-68 257,-62 257,-56 257,-56 257,-12 257,-12 257,-6 263,0 269,0 269,0 404,0 404,0 410,0 416,-6 416,-12 416,-12 416,-56 416,-56 416,-62 410,-68 404,-68\"/>\n",
       "<text text-anchor=\"start\" x=\"301.5\" y=\"-52.8\" font-family=\"Helvetica,sans-Serif\" font-size=\"14.00\">gini = 0.0</text>\n",
       "<text text-anchor=\"start\" x=\"292.5\" y=\"-37.8\" font-family=\"Helvetica,sans-Serif\" font-size=\"14.00\">samples = 1</text>\n",
       "<text text-anchor=\"start\" x=\"288\" y=\"-22.8\" font-family=\"Helvetica,sans-Serif\" font-size=\"14.00\">value = [1, 0]</text>\n",
       "<text text-anchor=\"start\" x=\"265\" y=\"-7.8\" font-family=\"Helvetica,sans-Serif\" font-size=\"14.00\">class = Sem Doença</text>\n",
       "</g>\n",
       "<!-- 3&#45;&gt;5 -->\n",
       "<g id=\"edge5\" class=\"edge\">\n",
       "<title>3&#45;&gt;5</title>\n",
       "<path fill=\"none\" stroke=\"black\" d=\"M286.29,-103.73C292.75,-94.88 299.6,-85.51 306.09,-76.63\"/>\n",
       "<polygon fill=\"black\" stroke=\"black\" points=\"309.1,-78.44 312.17,-68.3 303.45,-74.31 309.1,-78.44\"/>\n",
       "</g>\n",
       "</g>\n",
       "</svg>\n"
      ],
      "text/plain": [
       "<graphviz.sources.Source at 0x7cee014ab550>"
      ]
     },
     "execution_count": 20,
     "metadata": {},
     "output_type": "execute_result"
    }
   ],
   "source": [
    "dot_data = export_graphviz(\n",
    "    clf,\n",
    "    out_file=None,\n",
    "    feature_names=X.columns,\n",
    "    class_names=[\"Sem Doença\", \"Doença\"],\n",
    "    filled=True,\n",
    "    rounded=True,\n",
    "    special_characters=True\n",
    ")\n",
    "\n",
    "graph = Source(dot_data)\n",
    "graph.render(\"arvore_final\", format=\"png\", cleanup=True)\n",
    "graph"
   ]
  },
  {
   "cell_type": "code",
   "execution_count": null,
   "metadata": {},
   "outputs": [],
   "source": []
  }
 ],
 "metadata": {
  "kernelspec": {
   "display_name": "Python 3 (ipykernel)",
   "language": "python",
   "name": "python3"
  },
  "language_info": {
   "codemirror_mode": {
    "name": "ipython",
    "version": 3
   },
   "file_extension": ".py",
   "mimetype": "text/x-python",
   "name": "python",
   "nbconvert_exporter": "python",
   "pygments_lexer": "ipython3",
   "version": "3.11.7"
  }
 },
 "nbformat": 4,
 "nbformat_minor": 4
}
