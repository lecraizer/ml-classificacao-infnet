{
 "cells": [
  {
   "cell_type": "markdown",
   "metadata": {},
   "source": [
    "# 🧠 AdaBoost do Zero\n",
    "Neste notebook, vamos implementar o algoritmo **AdaBoost** com base em árvores de decisão rasas (stumps), do zero.\n",
    "\n",
    "Etapas:\n",
    "- Inicialização dos pesos\n",
    "- Treinamento sequencial de stumps\n",
    "- Atualização de pesos\n",
    "- Cálculo de alphas (pesos dos modelos)\n",
    "- Votação final ponderada"
   ]
  },
  {
   "cell_type": "code",
   "execution_count": 15,
   "metadata": {},
   "outputs": [],
   "source": [
    "# Dataset: Diabetes do OpenML\n",
    "from sklearn.datasets import fetch_openml\n",
    "import pandas as pd\n",
    "import numpy as np\n",
    "from sklearn.tree import DecisionTreeClassifier\n",
    "from sklearn.model_selection import train_test_split\n",
    "from sklearn.metrics import classification_report, accuracy_score, confusion_matrix\n",
    "\n",
    "data = fetch_openml(name='diabetes', version=1, as_frame=True)\n",
    "df = data.frame.copy()\n",
    "X = df.drop(columns='class')\n",
    "X = pd.get_dummies(X, drop_first=True)  # evita multicolinearidade\n",
    "y = df['class'].map({'tested_negative': 0, 'tested_positive': 1}).astype(float)\n",
    "\n",
    "# Split\n",
    "X_train, X_test, y_train, y_test = train_test_split(X, y, stratify=y, test_size=0.3, random_state=42)"
   ]
  },
  {
   "cell_type": "code",
   "execution_count": 16,
   "metadata": {},
   "outputs": [],
   "source": [
    "# Função AdaBoost do zero\n",
    "def adaboost_train(X, y, n_estimators=10):\n",
    "    n = len(y)\n",
    "    w = np.ones(n) / n  # pesos iniciais\n",
    "    models = []\n",
    "    alphas = []\n",
    "\n",
    "    for m in range(n_estimators):\n",
    "        stump = DecisionTreeClassifier(max_depth=1)\n",
    "        stump.fit(X, y, sample_weight=w)\n",
    "        pred = stump.predict(X)\n",
    "\n",
    "        err = np.sum(w * (pred != y)) / np.sum(w)\n",
    "        alpha = 0.5 * np.log((1 - err) / (err + 1e-10))\n",
    "\n",
    "        # Atualizar pesos\n",
    "        w *= np.exp(-alpha * y * pred)\n",
    "        w /= np.sum(w)\n",
    "\n",
    "        models.append(stump)\n",
    "        alphas.append(alpha)\n",
    "\n",
    "    return models, alphas"
   ]
  },
  {
   "cell_type": "code",
   "execution_count": 17,
   "metadata": {},
   "outputs": [],
   "source": [
    "# Previsão com AdaBoost\n",
    "def adaboost_predict(X, models, alphas):\n",
    "    final_pred = np.zeros(len(X))\n",
    "    for model, alpha in zip(models, alphas):\n",
    "        final_pred += alpha * model.predict(X)\n",
    "    return np.sign(final_pred)"
   ]
  },
  {
   "cell_type": "code",
   "execution_count": 18,
   "metadata": {},
   "outputs": [
    {
     "name": "stdout",
     "output_type": "stream",
     "text": [
      "Acurácia: 0.6926406926406926\n",
      "[[118  32]\n",
      " [ 39  42]]\n",
      "              precision    recall  f1-score   support\n",
      "\n",
      "         0.0       0.75      0.79      0.77       150\n",
      "         1.0       0.57      0.52      0.54        81\n",
      "\n",
      "    accuracy                           0.69       231\n",
      "   macro avg       0.66      0.65      0.66       231\n",
      "weighted avg       0.69      0.69      0.69       231\n",
      "\n"
     ]
    }
   ],
   "source": [
    "# Treinar AdaBoost manual\n",
    "models, alphas = adaboost_train(X_train, y_train, n_estimators=20)\n",
    "\n",
    "# Avaliação\n",
    "y_pred = adaboost_predict(X_test, models, alphas)\n",
    "\n",
    "print(\"Acurácia:\", accuracy_score(y_test, y_pred))\n",
    "print(confusion_matrix(y_test, y_pred))\n",
    "print(classification_report(y_test, y_pred))"
   ]
  },
  {
   "cell_type": "code",
   "execution_count": 20,
   "metadata": {},
   "outputs": [
    {
     "name": "stdout",
     "output_type": "stream",
     "text": [
      "AdaBoost (sklearn):\n",
      "Acurácia: 0.7316017316017316\n",
      "[[124  26]\n",
      " [ 36  45]]\n",
      "              precision    recall  f1-score   support\n",
      "\n",
      "         0.0       0.78      0.83      0.80       150\n",
      "         1.0       0.63      0.56      0.59        81\n",
      "\n",
      "    accuracy                           0.73       231\n",
      "   macro avg       0.70      0.69      0.70       231\n",
      "weighted avg       0.73      0.73      0.73       231\n",
      "\n"
     ]
    }
   ],
   "source": [
    "from sklearn.ensemble import AdaBoostClassifier\n",
    "\n",
    "# Modelo com os mesmos parâmetros do manual: base_estimator com max_depth=1\n",
    "base_stump = DecisionTreeClassifier(random_state=42)\n",
    "ada_sklearn = AdaBoostClassifier(estimator=base_stump, n_estimators=20, random_state=42)\n",
    "\n",
    "# Treinar\n",
    "ada_sklearn.fit(X_train, y_train)\n",
    "\n",
    "# Prever\n",
    "y_pred_sklearn = ada_sklearn.predict(X_test)\n",
    "\n",
    "# Avaliar\n",
    "print(\"AdaBoost (sklearn):\")\n",
    "print(\"Acurácia:\", accuracy_score(y_test, y_pred_sklearn))\n",
    "print(confusion_matrix(y_test, y_pred_sklearn))\n",
    "print(classification_report(y_test, y_pred_sklearn))"
   ]
  },
  {
   "cell_type": "code",
   "execution_count": null,
   "metadata": {},
   "outputs": [],
   "source": []
  }
 ],
 "metadata": {
  "kernelspec": {
   "display_name": "Python 3 (ipykernel)",
   "language": "python",
   "name": "python3"
  },
  "language_info": {
   "codemirror_mode": {
    "name": "ipython",
    "version": 3
   },
   "file_extension": ".py",
   "mimetype": "text/x-python",
   "name": "python",
   "nbconvert_exporter": "python",
   "pygments_lexer": "ipython3",
   "version": "3.11.7"
  }
 },
 "nbformat": 4,
 "nbformat_minor": 4
}
